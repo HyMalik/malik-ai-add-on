{
  "cells": [
    {
      "cell_type": "markdown",
      "id": "c6eed66854c398c3",
      "metadata": {
        "id": "c6eed66854c398c3"
      },
      "source": [
        "# SoftVC VITS Singing Voice Conversion and OpenVINO™\n",
        "This tutorial is based on [SoftVC VITS Singing Voice Conversion project](https://github.com/svc-develop-team/so-vits-svc). The purpose of this project was to enable developers to have their beloved anime characters perform singing tasks. The developers' intention was to focus solely on fictional characters and avoid any involvement of real individuals, anything related to real individuals deviates from the developer's original intention.\n",
        "\n",
        "The singing voice conversion model uses SoftVC content encoder to extract speech features from the source audio. These feature vectors are directly fed into [VITS](https://github.com/jaywalnut310/vits) without the need for conversion to a text-based intermediate representation. As a result, the pitch and intonations of the original audio are preserved.\n",
        "\n",
        "In this tutorial we will use the base model flow.\n",
        "\n",
        "\n",
        "#### Table of contents:\n",
        "\n",
        "- [Prerequisites](#Prerequisites)\n",
        "- [Use the original model to run an inference](#Use-the-original-model-to-run-an-inference)\n",
        "- [Convert to OpenVINO IR model](#Convert-to-OpenVINO-IR-model)\n",
        "- [Run the OpenVINO model](#Run-the-OpenVINO-model)\n",
        "- [Interactive inference](#Interactive-inference)\n",
        "\n",
        "\n",
        "### Installation Instructions\n",
        "\n",
        "This is a self-contained example that relies solely on its own code.\n",
        "\n",
        "We recommend  running the notebook in a virtual environment. You only need a Jupyter server to start.\n",
        "For details, please refer to [Installation Guide](https://github.com/openvinotoolkit/openvino_notebooks/blob/latest/README.md#-installation-guide).\n",
        "\n",
        "<img referrerpolicy=\"no-referrer-when-downgrade\" src=\"https://static.scarf.sh/a.png?x-pxid=5b5a4db0-7875-4bfb-bdbd-01698b5b1a77&file=notebooks/softvc-voice-conversion/softvc-voice-conversion.ipynb\" />\n"
      ]
    },
    {
      "cell_type": "markdown",
      "id": "a921abbc-41a4-4ae4-a20c-7541f0a69a4b",
      "metadata": {
        "id": "a921abbc-41a4-4ae4-a20c-7541f0a69a4b"
      },
      "source": [
        "## Prerequisites\n",
        "[back to top ⬆️](#Table-of-contents:)\n",
        "This model has some problems with installation. So, we have to downgrade `pip` to version below `24.1` to avoid problems with `fairseq`. Also, `fairseq` has some problems on `Windows` on `python>=3.11` and we use a custom version of this library to resolve them.  "
      ]
    },
    {
      "cell_type": "code",
      "execution_count": 1,
      "id": "2d4dacb3",
      "metadata": {
        "id": "2d4dacb3",
        "outputId": "468585ed-7204-478b-c6d9-0682cb028ee3",
        "colab": {
          "base_uri": "https://localhost:8080/"
        }
      },
      "outputs": [
        {
          "output_type": "stream",
          "name": "stdout",
          "text": [
            "\u001b[?25l   \u001b[90m━━━━━━━━━━━━━━━━━━━━━━━━━━━━━━━━━━━━━━━━\u001b[0m \u001b[32m0.0/2.1 MB\u001b[0m \u001b[31m?\u001b[0m eta \u001b[36m-:--:--\u001b[0m\r\u001b[2K   \u001b[91m━━━━━━━━━━━━━\u001b[0m\u001b[91m╸\u001b[0m\u001b[90m━━━━━━━━━━━━━━━━━━━━━━━━━━\u001b[0m \u001b[32m0.7/2.1 MB\u001b[0m \u001b[31m21.0 MB/s\u001b[0m eta \u001b[36m0:00:01\u001b[0m\r\u001b[2K   \u001b[91m━━━━━━━━━━━━━━━━━━━━━━━━━━━━━━━━━━━━━━━\u001b[0m\u001b[91m╸\u001b[0m \u001b[32m2.1/2.1 MB\u001b[0m \u001b[31m39.3 MB/s\u001b[0m eta \u001b[36m0:00:01\u001b[0m\r\u001b[2K   \u001b[90m━━━━━━━━━━━━━━━━━━━━━━━━━━━━━━━━━━━━━━━━\u001b[0m \u001b[32m2.1/2.1 MB\u001b[0m \u001b[31m25.4 MB/s\u001b[0m eta \u001b[36m0:00:00\u001b[0m\n",
            "\u001b[?25hLooking in indexes: https://pypi.org/simple, https://download.pytorch.org/whl/cpu\n",
            "Collecting fairseq==0.12.2\n",
            "  Downloading fairseq-0.12.2.tar.gz (9.6 MB)\n",
            "\u001b[2K     \u001b[90m━━━━━━━━━━━━━━━━━━━━━━━━━━━━━━━━━━━━━━━━\u001b[0m \u001b[32m9.6/9.6 MB\u001b[0m \u001b[31m24.1 MB/s\u001b[0m eta \u001b[36m0:00:00\u001b[0m\n",
            "\u001b[?25h  Installing build dependencies ... \u001b[?25l\u001b[?25hdone\n",
            "  Getting requirements to build wheel ... \u001b[?25l\u001b[?25hdone\n",
            "  Installing backend dependencies ... \u001b[?25l\u001b[?25hdone\n",
            "  Preparing metadata (pyproject.toml) ... \u001b[?25l\u001b[?25hdone\n",
            "Requirement already satisfied: cffi in /usr/local/lib/python3.11/dist-packages (from fairseq==0.12.2) (1.17.1)\n",
            "Requirement already satisfied: cython in /usr/local/lib/python3.11/dist-packages (from fairseq==0.12.2) (3.0.11)\n",
            "Collecting hydra-core<1.1,>=1.0.7 (from fairseq==0.12.2)\n",
            "  Downloading hydra_core-1.0.7-py3-none-any.whl.metadata (3.7 kB)\n",
            "Collecting omegaconf<2.1 (from fairseq==0.12.2)\n",
            "  Downloading omegaconf-2.0.6-py3-none-any.whl.metadata (3.0 kB)\n",
            "Requirement already satisfied: numpy in /usr/local/lib/python3.11/dist-packages (from fairseq==0.12.2) (1.26.4)\n",
            "Requirement already satisfied: regex in /usr/local/lib/python3.11/dist-packages (from fairseq==0.12.2) (2024.11.6)\n",
            "Collecting sacrebleu>=1.4.12 (from fairseq==0.12.2)\n",
            "  Downloading sacrebleu-2.5.1-py3-none-any.whl.metadata (51 kB)\n",
            "\u001b[2K     \u001b[90m━━━━━━━━━━━━━━━━━━━━━━━━━━━━━━━━━━━━━━━━\u001b[0m \u001b[32m51.8/51.8 kB\u001b[0m \u001b[31m4.2 MB/s\u001b[0m eta \u001b[36m0:00:00\u001b[0m\n",
            "\u001b[?25hRequirement already satisfied: torch in /usr/local/lib/python3.11/dist-packages (from fairseq==0.12.2) (2.5.1+cu121)\n",
            "Requirement already satisfied: tqdm in /usr/local/lib/python3.11/dist-packages (from fairseq==0.12.2) (4.67.1)\n",
            "Collecting bitarray (from fairseq==0.12.2)\n",
            "  Downloading bitarray-3.0.0-cp311-cp311-manylinux_2_17_x86_64.manylinux2014_x86_64.whl.metadata (32 kB)\n",
            "Requirement already satisfied: torchaudio>=0.8.0 in /usr/local/lib/python3.11/dist-packages (from fairseq==0.12.2) (2.5.1+cu121)\n",
            "Collecting antlr4-python3-runtime==4.8 (from hydra-core<1.1,>=1.0.7->fairseq==0.12.2)\n",
            "  Downloading antlr4-python3-runtime-4.8.tar.gz (112 kB)\n",
            "\u001b[2K     \u001b[90m━━━━━━━━━━━━━━━━━━━━━━━━━━━━━━━━━━━━━━━━\u001b[0m \u001b[32m112.4/112.4 kB\u001b[0m \u001b[31m10.3 MB/s\u001b[0m eta \u001b[36m0:00:00\u001b[0m\n",
            "\u001b[?25h  Preparing metadata (setup.py) ... \u001b[?25l\u001b[?25hdone\n",
            "Requirement already satisfied: PyYAML>=5.1.* in /usr/local/lib/python3.11/dist-packages (from omegaconf<2.1->fairseq==0.12.2) (6.0.2)\n",
            "Requirement already satisfied: typing-extensions in /usr/local/lib/python3.11/dist-packages (from omegaconf<2.1->fairseq==0.12.2) (4.12.2)\n",
            "Collecting portalocker (from sacrebleu>=1.4.12->fairseq==0.12.2)\n",
            "  Downloading portalocker-3.1.1-py3-none-any.whl.metadata (8.6 kB)\n",
            "Requirement already satisfied: tabulate>=0.8.9 in /usr/local/lib/python3.11/dist-packages (from sacrebleu>=1.4.12->fairseq==0.12.2) (0.9.0)\n",
            "Collecting colorama (from sacrebleu>=1.4.12->fairseq==0.12.2)\n",
            "  Downloading https://download.pytorch.org/whl/colorama-0.4.6-py2.py3-none-any.whl (25 kB)\n",
            "Requirement already satisfied: lxml in /usr/local/lib/python3.11/dist-packages (from sacrebleu>=1.4.12->fairseq==0.12.2) (5.3.0)\n",
            "Requirement already satisfied: filelock in /usr/local/lib/python3.11/dist-packages (from torch->fairseq==0.12.2) (3.17.0)\n",
            "Requirement already satisfied: networkx in /usr/local/lib/python3.11/dist-packages (from torch->fairseq==0.12.2) (3.4.2)\n",
            "Requirement already satisfied: jinja2 in /usr/local/lib/python3.11/dist-packages (from torch->fairseq==0.12.2) (3.1.5)\n",
            "Requirement already satisfied: fsspec in /usr/local/lib/python3.11/dist-packages (from torch->fairseq==0.12.2) (2024.10.0)\n",
            "Requirement already satisfied: nvidia-cuda-nvrtc-cu12==12.1.105 in /usr/local/lib/python3.11/dist-packages (from torch->fairseq==0.12.2) (12.1.105)\n",
            "Requirement already satisfied: nvidia-cuda-runtime-cu12==12.1.105 in /usr/local/lib/python3.11/dist-packages (from torch->fairseq==0.12.2) (12.1.105)\n",
            "Requirement already satisfied: nvidia-cuda-cupti-cu12==12.1.105 in /usr/local/lib/python3.11/dist-packages (from torch->fairseq==0.12.2) (12.1.105)\n",
            "Requirement already satisfied: nvidia-cudnn-cu12==9.1.0.70 in /usr/local/lib/python3.11/dist-packages (from torch->fairseq==0.12.2) (9.1.0.70)\n",
            "Requirement already satisfied: nvidia-cublas-cu12==12.1.3.1 in /usr/local/lib/python3.11/dist-packages (from torch->fairseq==0.12.2) (12.1.3.1)\n",
            "Requirement already satisfied: nvidia-cufft-cu12==11.0.2.54 in /usr/local/lib/python3.11/dist-packages (from torch->fairseq==0.12.2) (11.0.2.54)\n",
            "Requirement already satisfied: nvidia-curand-cu12==10.3.2.106 in /usr/local/lib/python3.11/dist-packages (from torch->fairseq==0.12.2) (10.3.2.106)\n",
            "Requirement already satisfied: nvidia-cusolver-cu12==11.4.5.107 in /usr/local/lib/python3.11/dist-packages (from torch->fairseq==0.12.2) (11.4.5.107)\n",
            "Requirement already satisfied: nvidia-cusparse-cu12==12.1.0.106 in /usr/local/lib/python3.11/dist-packages (from torch->fairseq==0.12.2) (12.1.0.106)\n",
            "Requirement already satisfied: nvidia-nccl-cu12==2.21.5 in /usr/local/lib/python3.11/dist-packages (from torch->fairseq==0.12.2) (2.21.5)\n",
            "Requirement already satisfied: nvidia-nvtx-cu12==12.1.105 in /usr/local/lib/python3.11/dist-packages (from torch->fairseq==0.12.2) (12.1.105)\n",
            "Requirement already satisfied: triton==3.1.0 in /usr/local/lib/python3.11/dist-packages (from torch->fairseq==0.12.2) (3.1.0)\n",
            "Requirement already satisfied: sympy==1.13.1 in /usr/local/lib/python3.11/dist-packages (from torch->fairseq==0.12.2) (1.13.1)\n",
            "Requirement already satisfied: nvidia-nvjitlink-cu12 in /usr/local/lib/python3.11/dist-packages (from nvidia-cusolver-cu12==11.4.5.107->torch->fairseq==0.12.2) (12.6.85)\n",
            "Requirement already satisfied: mpmath<1.4,>=1.1.0 in /usr/local/lib/python3.11/dist-packages (from sympy==1.13.1->torch->fairseq==0.12.2) (1.3.0)\n",
            "Requirement already satisfied: pycparser in /usr/local/lib/python3.11/dist-packages (from cffi->fairseq==0.12.2) (2.22)\n",
            "Requirement already satisfied: MarkupSafe>=2.0 in /usr/local/lib/python3.11/dist-packages (from jinja2->torch->fairseq==0.12.2) (3.0.2)\n",
            "Downloading hydra_core-1.0.7-py3-none-any.whl (123 kB)\n",
            "\u001b[2K   \u001b[90m━━━━━━━━━━━━━━━━━━━━━━━━━━━━━━━━━━━━━━━━\u001b[0m \u001b[32m123.8/123.8 kB\u001b[0m \u001b[31m11.8 MB/s\u001b[0m eta \u001b[36m0:00:00\u001b[0m\n",
            "\u001b[?25hDownloading omegaconf-2.0.6-py3-none-any.whl (36 kB)\n",
            "Downloading sacrebleu-2.5.1-py3-none-any.whl (104 kB)\n",
            "\u001b[2K   \u001b[90m━━━━━━━━━━━━━━━━━━━━━━━━━━━━━━━━━━━━━━━━\u001b[0m \u001b[32m104.1/104.1 kB\u001b[0m \u001b[31m11.1 MB/s\u001b[0m eta \u001b[36m0:00:00\u001b[0m\n",
            "\u001b[?25hDownloading bitarray-3.0.0-cp311-cp311-manylinux_2_17_x86_64.manylinux2014_x86_64.whl (286 kB)\n",
            "\u001b[2K   \u001b[90m━━━━━━━━━━━━━━━━━━━━━━━━━━━━━━━━━━━━━━━━\u001b[0m \u001b[32m286.1/286.1 kB\u001b[0m \u001b[31m23.8 MB/s\u001b[0m eta \u001b[36m0:00:00\u001b[0m\n",
            "\u001b[?25hDownloading portalocker-3.1.1-py3-none-any.whl (19 kB)\n",
            "Building wheels for collected packages: fairseq, antlr4-python3-runtime\n",
            "  Building wheel for fairseq (pyproject.toml) ... \u001b[?25l\u001b[?25hdone\n",
            "  Created wheel for fairseq: filename=fairseq-0.12.2-cp311-cp311-linux_x86_64.whl size=11365786 sha256=7d16b5efeae704e1bc6b54b1db170b36e23b132152519f9c9ce0fc964babebaf\n",
            "  Stored in directory: /root/.cache/pip/wheels/f1/0d/ed/f4ca5b65eef7dda06cb421355a049648c032c6322c455a396e\n",
            "  Building wheel for antlr4-python3-runtime (setup.py) ... \u001b[?25l\u001b[?25hdone\n",
            "  Created wheel for antlr4-python3-runtime: filename=antlr4_python3_runtime-4.8-py3-none-any.whl size=141214 sha256=b33413ce5fed7e23a2d0f0ca5c1e949751ae9553fb6e87845aef17f271332a8d\n",
            "  Stored in directory: /root/.cache/pip/wheels/21/10/be/9a70640a3a60ed4a7e1a45e49bb9f58b04692d5d7b517bd39e\n",
            "Successfully built fairseq antlr4-python3-runtime\n",
            "\u001b[33mDEPRECATION: omegaconf 2.0.6 has a non-standard dependency specifier PyYAML>=5.1.*. pip 24.1 will enforce this behaviour change. A possible replacement is to upgrade to a newer version of omegaconf or contact the author to suggest that they release a version with a conforming dependency specifiers. Discussion can be found at https://github.com/pypa/pip/issues/12063\u001b[0m\u001b[33m\n",
            "\u001b[0mInstalling collected packages: bitarray, antlr4-python3-runtime, portalocker, omegaconf, colorama, sacrebleu, hydra-core, fairseq\n",
            "Successfully installed antlr4-python3-runtime-4.8 bitarray-3.0.0 colorama-0.4.6 fairseq-0.12.2 hydra-core-1.0.7 omegaconf-2.0.6 portalocker-3.1.1 sacrebleu-2.5.1\n"
          ]
        }
      ],
      "source": [
        "import platform\n",
        "import sys\n",
        "import warnings\n",
        "\n",
        "\n",
        "%pip install -qU \"pip<24.1\"\n",
        "if platform.system() == \"Windows\" and sys.version_info >= (3, 11, 0):\n",
        "    warnings.warn(\n",
        "        \"Building the custmom fairseq package may take a long time and may require additional privileges in the system. We recommend using Python versions 3.8, 3.9 or 3.10 for this model.\"\n",
        "    )\n",
        "    %pip install git+https://github.com/aleksandr-mokrov/fairseq.git --extra-index-url https://download.pytorch.org/whl/cpu\n",
        "else:\n",
        "    %pip install \"fairseq==0.12.2\" --extra-index-url https://download.pytorch.org/whl/cpu"
      ]
    },
    {
      "cell_type": "code",
      "execution_count": 2,
      "id": "f0d93080",
      "metadata": {
        "id": "f0d93080",
        "outputId": "1d69bec8-63db-4942-97c9-e2f83725878d",
        "colab": {
          "base_uri": "https://localhost:8080/"
        }
      },
      "outputs": [
        {
          "output_type": "execute_result",
          "data": {
            "text/plain": [
              "1491"
            ]
          },
          "metadata": {},
          "execution_count": 2
        }
      ],
      "source": [
        "import requests\n",
        "\n",
        "\n",
        "r = requests.get(\n",
        "    url=\"https://raw.githubusercontent.com/openvinotoolkit/openvino_notebooks/latest/utils/notebook_utils.py\",\n",
        ")\n",
        "open(\"notebook_utils.py\", \"w\", encoding=\"utf-8\").write(r.text)\n",
        "\n",
        "r = requests.get(\n",
        "    url=\"https://raw.githubusercontent.com/openvinotoolkit/openvino_notebooks/latest/utils/cmd_helper.py\",\n",
        ")\n",
        "open(\"cmd_helper.py\", \"w\").write(r.text)"
      ]
    },
    {
      "cell_type": "code",
      "execution_count": 3,
      "id": "a1aaa6bb335f4efe",
      "metadata": {
        "id": "a1aaa6bb335f4efe",
        "outputId": "4990f55f-8730-4996-83c1-165b6792e036",
        "colab": {
          "base_uri": "https://localhost:8080/"
        }
      },
      "outputs": [
        {
          "output_type": "stream",
          "name": "stdout",
          "text": [
            "\u001b[2K   \u001b[90m━━━━━━━━━━━━━━━━━━━━━━━━━━━━━━━━━━━━━━━━\u001b[0m \u001b[32m44.7/44.7 MB\u001b[0m \u001b[31m23.8 MB/s\u001b[0m eta \u001b[36m0:00:00\u001b[0m\n",
            "\u001b[?25h\u001b[33mDEPRECATION: omegaconf 2.0.6 has a non-standard dependency specifier PyYAML>=5.1.*. pip 24.1 will enforce this behaviour change. A possible replacement is to upgrade to a newer version of omegaconf or contact the author to suggest that they release a version with a conforming dependency specifiers. Discussion can be found at https://github.com/pypa/pip/issues/12063\u001b[0m\u001b[33m\n",
            "\u001b[2K   \u001b[90m━━━━━━━━━━━━━━━━━━━━━━━━━━━━━━━━━━━━━━━━\u001b[0m \u001b[32m27.5/27.5 MB\u001b[0m \u001b[31m77.4 MB/s\u001b[0m eta \u001b[36m0:00:00\u001b[0m\n",
            "\u001b[2K   \u001b[90m━━━━━━━━━━━━━━━━━━━━━━━━━━━━━━━━━━━━━━━━\u001b[0m \u001b[32m57.6/57.6 MB\u001b[0m \u001b[31m15.5 MB/s\u001b[0m eta \u001b[36m0:00:00\u001b[0m\n",
            "\u001b[2K   \u001b[90m━━━━━━━━━━━━━━━━━━━━━━━━━━━━━━━━━━━━━━━━\u001b[0m \u001b[32m321.8/321.8 kB\u001b[0m \u001b[31m25.8 MB/s\u001b[0m eta \u001b[36m0:00:00\u001b[0m\n",
            "\u001b[2K   \u001b[90m━━━━━━━━━━━━━━━━━━━━━━━━━━━━━━━━━━━━━━━━\u001b[0m \u001b[32m10.8/10.8 MB\u001b[0m \u001b[31m111.7 MB/s\u001b[0m eta \u001b[36m0:00:00\u001b[0m\n",
            "\u001b[2K   \u001b[90m━━━━━━━━━━━━━━━━━━━━━━━━━━━━━━━━━━━━━━━━\u001b[0m \u001b[32m94.8/94.8 kB\u001b[0m \u001b[31m8.4 MB/s\u001b[0m eta \u001b[36m0:00:00\u001b[0m\n",
            "\u001b[2K   \u001b[90m━━━━━━━━━━━━━━━━━━━━━━━━━━━━━━━━━━━━━━━━\u001b[0m \u001b[32m12.4/12.4 MB\u001b[0m \u001b[31m106.8 MB/s\u001b[0m eta \u001b[36m0:00:00\u001b[0m\n",
            "\u001b[2K   \u001b[90m━━━━━━━━━━━━━━━━━━━━━━━━━━━━━━━━━━━━━━━━\u001b[0m \u001b[32m71.5/71.5 kB\u001b[0m \u001b[31m7.1 MB/s\u001b[0m eta \u001b[36m0:00:00\u001b[0m\n",
            "\u001b[2K   \u001b[90m━━━━━━━━━━━━━━━━━━━━━━━━━━━━━━━━━━━━━━━━\u001b[0m \u001b[32m62.3/62.3 kB\u001b[0m \u001b[31m5.6 MB/s\u001b[0m eta \u001b[36m0:00:00\u001b[0m\n",
            "\u001b[?25h\u001b[33mDEPRECATION: omegaconf 2.0.6 has a non-standard dependency specifier PyYAML>=5.1.*. pip 24.1 will enforce this behaviour change. A possible replacement is to upgrade to a newer version of omegaconf or contact the author to suggest that they release a version with a conforming dependency specifiers. Discussion can be found at https://github.com/pypa/pip/issues/12063\u001b[0m\u001b[33m\n",
            "\u001b[0m"
          ]
        }
      ],
      "source": [
        "from cmd_helper import clone_repo\n",
        "\n",
        "\n",
        "%pip install -q \"openvino>=2023.2.0\"\n",
        "clone_repo(\"https://github.com/svc-develop-team/so-vits-svc\", revision=\"4.1-Stable\", add_to_sys_path=False)\n",
        "%pip install -q --extra-index-url https://download.pytorch.org/whl/cpu  tqdm librosa \"torch>=2.1.0\" \"torchaudio>=2.1.0\" faiss-cpu \"gradio>=4.19\" \"numpy>=1.23.5\" praat-parselmouth"
      ]
    },
    {
      "cell_type": "markdown",
      "id": "19df02f3-a4e7-4063-8b8c-b05a68a63c6e",
      "metadata": {
        "id": "19df02f3-a4e7-4063-8b8c-b05a68a63c6e"
      },
      "source": [
        "Download pretrained models and configs. We use a recommended encoder [ContentVec](https://arxiv.org/abs/2204.09224) and models from [a collection of so-vits-svc-4.0 models made by the Pony Preservation Project](https://huggingface.co/therealvul/so-vits-svc-4.0) for example. You can choose any other pretrained model from this or another project or [prepare your own](https://github.com/svc-develop-team/so-vits-svc#%EF%B8%8F-training)."
      ]
    },
    {
      "cell_type": "code",
      "execution_count": null,
      "id": "5ca855b365c4e0e7",
      "metadata": {
        "id": "5ca855b365c4e0e7",
        "outputId": "d318bf04-3efc-46df-f0aa-28a62eabfcef",
        "colab": {
          "base_uri": "https://localhost:8080/",
          "height": 145,
          "referenced_widgets": [
            "74f240be40074679897fe2d0c3eea299",
            "2c4adc737adb433eb69ec3edc2b888b0",
            "8267fc57dc754fecbe27a10379226312",
            "6e84e83cdeb14ea8b691c37a83496b85",
            "cc81d5496e6f4fb986f2a0579f563b0c",
            "16fa978b6fd34ec986f171a12dcc8818",
            "c48f3c56f1504b4a9ae9488f508940a8",
            "bc091d2d09f843da9a5363280bb386d0",
            "88aad69d6f68480a92fdd647f5f9c344",
            "fc6b3c12113a446d8fa9c4b28d80a2b5",
            "1ecdf3adfd5246198cd40ce754789f84",
            "872b70ed614345879f027341303cc5eb",
            "04626f3f11514921a5148ca8226c3baa",
            "6a0bff9f86ec4f74b1045d91be671111",
            "8cf545122eb947ceb8ea333578160aa7",
            "cf527c95261c48d7bd9bdca16d9f153a",
            "6570049cfaf44c64bd50aee4ba4f7e71",
            "4ebca45518a549e1a42f156b359c2ffe",
            "0da00898a57345589ef1bb7e8545bf7c",
            "08de4c9dcd064ad3ad67fd20a9d3744c",
            "0b36226aa349441ca13b7db1a4adbfed",
            "12a2049efe3047138dabdfb2efe9fd25",
            "2223113f8d464adfa41a3b8256b3b064",
            "725e3d331f3944b0a98153714a5106c5",
            "cfb634e31d1243318274325cd9436d17",
            "937d40420930412d8f48bee24f4efe68",
            "bcaef1fbe143449a8964b5883a603592",
            "46b06c19d6574556bf0ce41044469837",
            "5e3b69cca00e4eb7aaa8ce73c5eab2f5",
            "25841dec73a846839e24f253f2650b07",
            "95a42296f48a4ec99043706443c7fc19",
            "17f64d866b404c32b75debc79cba5908",
            "0a68edce88224f7cb99eee5b0b385dc1",
            "15cacdb9ab4b4f9fa0900ea6f9f0366c",
            "8bf03153b48648e49c01b090c7bf797a",
            "03bd782330c94448a4703ad2c4ce5b0e",
            "3127d6f863d443a0bfb4c246a07cab50",
            "c66afaa01e974e58884967d88be7db51",
            "0752f671866745b19b850ae3ec01d9a6",
            "0f3068e8e9dc406aa9e0f0883c8d81bb",
            "9370e8180893488a9dacb8eec5f766d2",
            "fcfeff790c9343bcae6a7a67dc5e802e",
            "3b9e2ab0b7d843d9ac4e2a980e10e155",
            "5c7784baecb34b239abf3f3a04b6a452"
          ]
        }
      },
      "outputs": [
        {
          "output_type": "display_data",
          "data": {
            "text/plain": [
              "checkpoint_best_legacy_500.pt:   0%|          | 0.00/181M [00:00<?, ?B/s]"
            ],
            "application/vnd.jupyter.widget-view+json": {
              "version_major": 2,
              "version_minor": 0,
              "model_id": "74f240be40074679897fe2d0c3eea299"
            }
          },
          "metadata": {}
        },
        {
          "output_type": "display_data",
          "data": {
            "text/plain": [
              "kmeans_10000.pt:   0%|          | 0.00/14.7M [00:00<?, ?B/s]"
            ],
            "application/vnd.jupyter.widget-view+json": {
              "version_major": 2,
              "version_minor": 0,
              "model_id": "872b70ed614345879f027341303cc5eb"
            }
          },
          "metadata": {}
        },
        {
          "output_type": "display_data",
          "data": {
            "text/plain": [
              "config.json:   0%|          | 0.00/1.58k [00:00<?, ?B/s]"
            ],
            "application/vnd.jupyter.widget-view+json": {
              "version_major": 2,
              "version_minor": 0,
              "model_id": "2223113f8d464adfa41a3b8256b3b064"
            }
          },
          "metadata": {}
        },
        {
          "output_type": "display_data",
          "data": {
            "text/plain": [
              "G_30400.pth:   0%|          | 0.00/518M [00:00<?, ?B/s]"
            ],
            "application/vnd.jupyter.widget-view+json": {
              "version_major": 2,
              "version_minor": 0,
              "model_id": "15cacdb9ab4b4f9fa0900ea6f9f0366c"
            }
          },
          "metadata": {}
        }
      ],
      "source": [
        "import os\n",
        "\n",
        "from notebook_utils import download_file, device_widget\n",
        "\n",
        "\n",
        "# ContentVec\n",
        "download_file(\n",
        "    \"https://huggingface.co/lj1995/VoiceConversionWebUI/resolve/main/hubert_base.pt\",\n",
        "    \"checkpoint_best_legacy_500.pt\",\n",
        "    directory=\"so-vits-svc/pretrain/\",\n",
        ")\n",
        "\n",
        "# pretrained models and configs from a collection of so-vits-svc-4.0 models. You can use other models.\n",
        "download_file(\n",
        "    \"https://huggingface.co/therealvul/so-vits-svc-4.0/resolve/main/Rainbow%20Dash%20(singing)/kmeans_10000.pt\",\n",
        "    \"kmeans_10000.pt\",\n",
        "    directory=\"so-vits-svc/logs/44k/\",\n",
        ")\n",
        "if os.stat(\"so-vits-svc/configs/config.json\").st_size == 0:  # cleanup if it is default empty file\n",
        "    os.remove(\"so-vits-svc/configs/config.json\")\n",
        "download_file(\n",
        "    \"https://huggingface.co/therealvul/so-vits-svc-4.0/resolve/main/Rainbow%20Dash%20(singing)/config.json\",\n",
        "    \"config.json\",\n",
        "    directory=\"so-vits-svc/configs/\",\n",
        ")\n",
        "download_file(\n",
        "    \"https://huggingface.co/therealvul/so-vits-svc-4.0/resolve/main/Rainbow%20Dash%20(singing)/G_30400.pth\",\n",
        "    \"G_30400.pth\",\n",
        "    directory=\"so-vits-svc/logs/44k/\",\n",
        ")\n",
        "download_file(\n",
        "    \"https://huggingface.co/therealvul/so-vits-svc-4.0/resolve/main/Rainbow%20Dash%20(singing)/D_30400.pth\",\n",
        "    \"D_30400.pth\",\n",
        "    directory=\"so-vits-svc/logs/44k/\",\n",
        ")\n",
        "\n",
        "# a wav sample\n",
        "download_file(\n",
        "    \"https://huggingface.co/datasets/santifiorino/spinetta/resolve/main/spinetta/000.wav\",\n",
        "    \"000.wav\",\n",
        "    directory=\"so-vits-svc/raw/\",\n",
        ")"
      ]
    },
    {
      "cell_type": "markdown",
      "id": "6f53cf28ef37988f",
      "metadata": {
        "id": "6f53cf28ef37988f"
      },
      "source": [
        "## Use the original model to run an inference\n",
        "[back to top ⬆️](#Table-of-contents:)\n"
      ]
    },
    {
      "cell_type": "markdown",
      "id": "ea7218ff-e99c-4b05-ac54-99b097aab23f",
      "metadata": {
        "id": "ea7218ff-e99c-4b05-ac54-99b097aab23f"
      },
      "source": [
        "Change directory to `so-vits-svc` in purpose not to brake internal relative paths."
      ]
    },
    {
      "cell_type": "code",
      "execution_count": null,
      "id": "324125b043342928",
      "metadata": {
        "ExecuteTime": {
          "end_time": "2023-10-11T16:23:39.582765900Z",
          "start_time": "2023-10-11T16:23:39.441185100Z"
        },
        "id": "324125b043342928"
      },
      "outputs": [],
      "source": [
        "%cd so-vits-svc"
      ]
    },
    {
      "cell_type": "markdown",
      "id": "531f9121-2452-4dca-9da1-0e0272f54e0b",
      "metadata": {
        "id": "531f9121-2452-4dca-9da1-0e0272f54e0b"
      },
      "source": [
        "Define the Sovits Model."
      ]
    },
    {
      "cell_type": "code",
      "execution_count": null,
      "id": "8cba0ed03ac900ce",
      "metadata": {
        "ExecuteTime": {
          "end_time": "2023-10-11T16:24:11.594409400Z",
          "start_time": "2023-10-11T16:23:48.236884800Z"
        },
        "id": "8cba0ed03ac900ce"
      },
      "outputs": [],
      "source": [
        "from inference.infer_tool import Svc\n",
        "\n",
        "model = Svc(\"logs/44k/G_30400.pth\", \"configs/config.json\", device=\"cuda\")"
      ]
    },
    {
      "cell_type": "markdown",
      "id": "3e38baeb-14bd-4dbf-86de-36a7d69b0026",
      "metadata": {
        "id": "3e38baeb-14bd-4dbf-86de-36a7d69b0026"
      },
      "source": [
        "Define `kwargs` and make an inference."
      ]
    },
    {
      "cell_type": "code",
      "execution_count": null,
      "id": "364d72774d2863d0",
      "metadata": {
        "ExecuteTime": {
          "end_time": "2023-10-11T16:24:34.084985700Z",
          "start_time": "2023-10-11T16:24:22.823731700Z"
        },
        "id": "364d72774d2863d0"
      },
      "outputs": [],
      "source": [
        "kwargs = {\n",
        "    \"raw_audio_path\": \"raw/000.wav\",  # path to a source audio\n",
        "    \"spk\": \"Rainbow Dash (singing)\",  # speaker ID in which the source audio should be converted.\n",
        "    \"tran\": 0,\n",
        "    \"slice_db\": -40,\n",
        "    \"cluster_infer_ratio\": 0,\n",
        "    \"auto_predict_f0\": False,\n",
        "    \"noice_scale\": 0.4,\n",
        "}\n",
        "\n",
        "audio = model.slice_inference(**kwargs)"
      ]
    },
    {
      "cell_type": "markdown",
      "id": "6d6882b1-1762-4909-ba58-66314fd24108",
      "metadata": {
        "id": "6d6882b1-1762-4909-ba58-66314fd24108"
      },
      "source": [
        "And let compare the original audio with the result."
      ]
    },
    {
      "cell_type": "code",
      "execution_count": null,
      "id": "a941d393fb0d9f5b",
      "metadata": {
        "id": "a941d393fb0d9f5b"
      },
      "outputs": [],
      "source": [
        "import IPython.display as ipd\n",
        "\n",
        "# original\n",
        "ipd.Audio(\"raw/000.wav\", rate=model.target_sample)"
      ]
    },
    {
      "cell_type": "code",
      "execution_count": null,
      "id": "8fe21dc8-794c-48b0-a9a1-1ca2280d65d5",
      "metadata": {
        "id": "8fe21dc8-794c-48b0-a9a1-1ca2280d65d5"
      },
      "outputs": [],
      "source": [
        "# result\n",
        "ipd.Audio(audio, rate=model.target_sample)"
      ]
    },
    {
      "cell_type": "markdown",
      "id": "ae244d48f7982d4c",
      "metadata": {
        "id": "ae244d48f7982d4c"
      },
      "source": [
        "## Convert to OpenVINO IR model\n",
        "[back to top ⬆️](#Table-of-contents:)\n",
        "\n",
        "Model components are PyTorch modules, that can be converted with `ov.convert_model` function directly. We also use `ov.save_model` function to serialize the result of conversion.\n",
        "`Svc` is not a model, it runs model inference inside. In base scenario only `SynthesizerTrn` named `net_g_ms` is used. It is enough to convert only this model and we should re-assign `forward` method on `infer` method for this purpose.\n",
        "\n",
        "`SynthesizerTrn` uses several models inside it's flow, i.e. `TextEncoder`, `Generator`, `ResidualCouplingBlock`, etc., but in our case OpenVINO allows to convert whole pipeline by one step without need to look inside."
      ]
    },
    {
      "cell_type": "code",
      "execution_count": null,
      "id": "259b86a26d06f881",
      "metadata": {
        "id": "259b86a26d06f881"
      },
      "outputs": [],
      "source": [
        "import openvino as ov\n",
        "import torch\n",
        "from pathlib import Path\n",
        "\n",
        "\n",
        "dummy_c = torch.randn(1, 256, 813)\n",
        "dummy_f0 = torch.randn(1, 813)\n",
        "dummy_uv = torch.ones(1, 813)\n",
        "dummy_g = torch.tensor([[0]])\n",
        "model.net_g_ms.forward = model.net_g_ms.infer\n",
        "\n",
        "net_g_kwargs = {\n",
        "    \"c\": dummy_c,\n",
        "    \"f0\": dummy_f0,\n",
        "    \"uv\": dummy_uv,\n",
        "    \"g\": dummy_g,\n",
        "    \"noice_scale\": torch.tensor(0.35),  # need to wrap numeric and boolean values for conversion\n",
        "    \"seed\": torch.tensor(52468),\n",
        "    \"predict_f0\": torch.tensor(False),\n",
        "    \"vol\": torch.tensor(0),\n",
        "}\n",
        "core = ov.Core()\n",
        "\n",
        "\n",
        "net_g_model_xml_path = Path(\"models/ov_net_g_model.xml\")\n",
        "\n",
        "if not net_g_model_xml_path.exists():\n",
        "    converted_model = ov.convert_model(model.net_g_ms, example_input=net_g_kwargs)\n",
        "    net_g_model_xml_path.parent.mkdir(parents=True, exist_ok=True)\n",
        "    ov.save_model(converted_model, net_g_model_xml_path)"
      ]
    },
    {
      "cell_type": "markdown",
      "id": "e211edea-0515-4070-8d66-d5b3bfb398dc",
      "metadata": {
        "id": "e211edea-0515-4070-8d66-d5b3bfb398dc"
      },
      "source": [
        "## Run the OpenVINO model\n",
        "[back to top ⬆️](#Table-of-contents:)\n",
        "\n",
        "Select a device from dropdown list for running inference using OpenVINO."
      ]
    },
    {
      "cell_type": "code",
      "execution_count": null,
      "id": "b907034e797533dc",
      "metadata": {
        "id": "b907034e797533dc"
      },
      "outputs": [],
      "source": [
        "import openvino as ov\n",
        "\n",
        "core = ov.Core()\n",
        "\n",
        "device = device_widget()\n",
        "\n",
        "device"
      ]
    },
    {
      "cell_type": "markdown",
      "id": "a49a84e3-6ae2-4336-a77b-b5818ae1d985",
      "metadata": {
        "id": "a49a84e3-6ae2-4336-a77b-b5818ae1d985"
      },
      "source": [
        "We should create a wrapper for `net_g_ms` model to keep it's interface. Then replace `net_g_ms` original model by the converted IR model. We use `ov.compile_model` to make it ready to use for loading on a device."
      ]
    },
    {
      "cell_type": "code",
      "execution_count": null,
      "id": "fb890ffe86cd0a84",
      "metadata": {
        "id": "fb890ffe86cd0a84"
      },
      "outputs": [],
      "source": [
        "class NetGModelWrapper:\n",
        "    def __init__(self, net_g_model_xml_path):\n",
        "        super().__init__()\n",
        "        self.net_g_model = core.compile_model(net_g_model_xml_path, device.value)\n",
        "\n",
        "    def infer(self, c, *, f0, uv, g, noice_scale=0.35, seed=52468, predict_f0=False, vol=None):\n",
        "        if vol is None:  # None is not allowed as an input\n",
        "            results = self.net_g_model((c, f0, uv, g, noice_scale, seed, predict_f0))\n",
        "        else:\n",
        "            results = self.net_g_model((c, f0, uv, g, noice_scale, seed, predict_f0, vol))\n",
        "\n",
        "        return torch.from_numpy(results[0]), torch.from_numpy(results[1])\n",
        "\n",
        "\n",
        "model.net_g_ms = NetGModelWrapper(net_g_model_xml_path)\n",
        "audio = model.slice_inference(**kwargs)"
      ]
    },
    {
      "cell_type": "markdown",
      "id": "72924b58-e565-4855-8b1a-97be9144b943",
      "metadata": {
        "id": "72924b58-e565-4855-8b1a-97be9144b943"
      },
      "source": [
        "Check result. Is it identical to that created by the original model."
      ]
    },
    {
      "cell_type": "code",
      "execution_count": null,
      "id": "bea8d8b65b7fb95d",
      "metadata": {
        "id": "bea8d8b65b7fb95d"
      },
      "outputs": [],
      "source": [
        "import IPython.display as ipd\n",
        "\n",
        "ipd.Audio(audio, rate=model.target_sample)"
      ]
    },
    {
      "cell_type": "markdown",
      "id": "69937fb6-3da5-4e1e-b4e4-304ee5e6a421",
      "metadata": {
        "id": "69937fb6-3da5-4e1e-b4e4-304ee5e6a421"
      },
      "source": [
        "## Interactive inference\n",
        "[back to top ⬆️](#Table-of-contents:)\n"
      ]
    },
    {
      "cell_type": "code",
      "execution_count": null,
      "id": "d8060bd8",
      "metadata": {
        "id": "d8060bd8"
      },
      "outputs": [],
      "source": [
        "def infer(src_audio, tran, slice_db, noice_scale):\n",
        "    kwargs[\"raw_audio_path\"] = src_audio\n",
        "    kwargs[\"tran\"] = tran\n",
        "    kwargs[\"slice_db\"] = slice_db\n",
        "    kwargs[\"noice_scale\"] = noice_scale\n",
        "\n",
        "    audio = model.slice_inference(**kwargs)\n",
        "\n",
        "    return model.target_sample, audio"
      ]
    },
    {
      "cell_type": "code",
      "execution_count": null,
      "id": "52af2039-b06f-490e-aa7c-b8588a420fdc",
      "metadata": {
        "id": "52af2039-b06f-490e-aa7c-b8588a420fdc"
      },
      "outputs": [],
      "source": [
        "if not Path(\"gradio_helper.py\").exists():\n",
        "    r = requests.get(url=\"https://raw.githubusercontent.com/openvinotoolkit/openvino_notebooks/latest/notebooks/softvc-voice-conversion/gradio_helper.py\")\n",
        "    open(\"gradio_helper.py\", \"w\", encoding=\"utf-8\").write(r.text)\n",
        "\n",
        "from gradio_helper import make_demo\n",
        "\n",
        "demo = make_demo(fn=infer)\n",
        "\n",
        "try:\n",
        "    demo.queue().launch(debug=True)\n",
        "except Exception:\n",
        "    demo.queue().launch(share=True, debug=True)\n",
        "# If you are launching remotely, specify server_name and server_port\n",
        "# EXAMPLE: `demo.launch(server_name='your server name', server_port='server port in int')`\n",
        "# To learn more please refer to the Gradio docs: https://gradio.app/docs/"
      ]
    },
    {
      "cell_type": "code",
      "execution_count": null,
      "id": "8c4149d5",
      "metadata": {
        "id": "8c4149d5"
      },
      "outputs": [],
      "source": [
        "# please uncomment and run this cell for stopping gradio interface\n",
        "# demo.close()"
      ]
    }
  ],
  "metadata": {
    "kernelspec": {
      "display_name": "Python 3",
      "name": "python3"
    },
    "language_info": {
      "codemirror_mode": {
        "name": "ipython",
        "version": 3
      },
      "file_extension": ".py",
      "mimetype": "text/x-python",
      "name": "python",
      "nbconvert_exporter": "python",
      "pygments_lexer": "ipython3",
      "version": "3.8.10"
    },
    "openvino_notebooks": {
      "imageUrl": "https://github.com/openvinotoolkit/openvino_notebooks/assets/29454499/bb43bea1-6709-48e5-a928-b86061399849",
      "tags": {
        "categories": [
          "Model Demos",
          "AI Trends"
        ],
        "libraries": [],
        "other": [],
        "tasks": [
          "Audio-to-Audio",
          "Voice Conversion"
        ]
      }
    },
    "widgets": {
      "application/vnd.jupyter.widget-state+json": {
        "74f240be40074679897fe2d0c3eea299": {
          "model_module": "@jupyter-widgets/controls",
          "model_name": "HBoxModel",
          "model_module_version": "1.5.0",
          "state": {
            "_dom_classes": [],
            "_model_module": "@jupyter-widgets/controls",
            "_model_module_version": "1.5.0",
            "_model_name": "HBoxModel",
            "_view_count": null,
            "_view_module": "@jupyter-widgets/controls",
            "_view_module_version": "1.5.0",
            "_view_name": "HBoxView",
            "box_style": "",
            "children": [
              "IPY_MODEL_2c4adc737adb433eb69ec3edc2b888b0",
              "IPY_MODEL_8267fc57dc754fecbe27a10379226312",
              "IPY_MODEL_6e84e83cdeb14ea8b691c37a83496b85"
            ],
            "layout": "IPY_MODEL_cc81d5496e6f4fb986f2a0579f563b0c"
          }
        },
        "2c4adc737adb433eb69ec3edc2b888b0": {
          "model_module": "@jupyter-widgets/controls",
          "model_name": "HTMLModel",
          "model_module_version": "1.5.0",
          "state": {
            "_dom_classes": [],
            "_model_module": "@jupyter-widgets/controls",
            "_model_module_version": "1.5.0",
            "_model_name": "HTMLModel",
            "_view_count": null,
            "_view_module": "@jupyter-widgets/controls",
            "_view_module_version": "1.5.0",
            "_view_name": "HTMLView",
            "description": "",
            "description_tooltip": null,
            "layout": "IPY_MODEL_16fa978b6fd34ec986f171a12dcc8818",
            "placeholder": "​",
            "style": "IPY_MODEL_c48f3c56f1504b4a9ae9488f508940a8",
            "value": "checkpoint_best_legacy_500.pt: 100%"
          }
        },
        "8267fc57dc754fecbe27a10379226312": {
          "model_module": "@jupyter-widgets/controls",
          "model_name": "FloatProgressModel",
          "model_module_version": "1.5.0",
          "state": {
            "_dom_classes": [],
            "_model_module": "@jupyter-widgets/controls",
            "_model_module_version": "1.5.0",
            "_model_name": "FloatProgressModel",
            "_view_count": null,
            "_view_module": "@jupyter-widgets/controls",
            "_view_module_version": "1.5.0",
            "_view_name": "ProgressView",
            "bar_style": "success",
            "description": "",
            "description_tooltip": null,
            "layout": "IPY_MODEL_bc091d2d09f843da9a5363280bb386d0",
            "max": 189507909,
            "min": 0,
            "orientation": "horizontal",
            "style": "IPY_MODEL_88aad69d6f68480a92fdd647f5f9c344",
            "value": 189507909
          }
        },
        "6e84e83cdeb14ea8b691c37a83496b85": {
          "model_module": "@jupyter-widgets/controls",
          "model_name": "HTMLModel",
          "model_module_version": "1.5.0",
          "state": {
            "_dom_classes": [],
            "_model_module": "@jupyter-widgets/controls",
            "_model_module_version": "1.5.0",
            "_model_name": "HTMLModel",
            "_view_count": null,
            "_view_module": "@jupyter-widgets/controls",
            "_view_module_version": "1.5.0",
            "_view_name": "HTMLView",
            "description": "",
            "description_tooltip": null,
            "layout": "IPY_MODEL_fc6b3c12113a446d8fa9c4b28d80a2b5",
            "placeholder": "​",
            "style": "IPY_MODEL_1ecdf3adfd5246198cd40ce754789f84",
            "value": " 181M/181M [00:18&lt;00:00, 18.0MB/s]"
          }
        },
        "cc81d5496e6f4fb986f2a0579f563b0c": {
          "model_module": "@jupyter-widgets/base",
          "model_name": "LayoutModel",
          "model_module_version": "1.2.0",
          "state": {
            "_model_module": "@jupyter-widgets/base",
            "_model_module_version": "1.2.0",
            "_model_name": "LayoutModel",
            "_view_count": null,
            "_view_module": "@jupyter-widgets/base",
            "_view_module_version": "1.2.0",
            "_view_name": "LayoutView",
            "align_content": null,
            "align_items": null,
            "align_self": null,
            "border": null,
            "bottom": null,
            "display": null,
            "flex": null,
            "flex_flow": null,
            "grid_area": null,
            "grid_auto_columns": null,
            "grid_auto_flow": null,
            "grid_auto_rows": null,
            "grid_column": null,
            "grid_gap": null,
            "grid_row": null,
            "grid_template_areas": null,
            "grid_template_columns": null,
            "grid_template_rows": null,
            "height": null,
            "justify_content": null,
            "justify_items": null,
            "left": null,
            "margin": null,
            "max_height": null,
            "max_width": null,
            "min_height": null,
            "min_width": null,
            "object_fit": null,
            "object_position": null,
            "order": null,
            "overflow": null,
            "overflow_x": null,
            "overflow_y": null,
            "padding": null,
            "right": null,
            "top": null,
            "visibility": null,
            "width": null
          }
        },
        "16fa978b6fd34ec986f171a12dcc8818": {
          "model_module": "@jupyter-widgets/base",
          "model_name": "LayoutModel",
          "model_module_version": "1.2.0",
          "state": {
            "_model_module": "@jupyter-widgets/base",
            "_model_module_version": "1.2.0",
            "_model_name": "LayoutModel",
            "_view_count": null,
            "_view_module": "@jupyter-widgets/base",
            "_view_module_version": "1.2.0",
            "_view_name": "LayoutView",
            "align_content": null,
            "align_items": null,
            "align_self": null,
            "border": null,
            "bottom": null,
            "display": null,
            "flex": null,
            "flex_flow": null,
            "grid_area": null,
            "grid_auto_columns": null,
            "grid_auto_flow": null,
            "grid_auto_rows": null,
            "grid_column": null,
            "grid_gap": null,
            "grid_row": null,
            "grid_template_areas": null,
            "grid_template_columns": null,
            "grid_template_rows": null,
            "height": null,
            "justify_content": null,
            "justify_items": null,
            "left": null,
            "margin": null,
            "max_height": null,
            "max_width": null,
            "min_height": null,
            "min_width": null,
            "object_fit": null,
            "object_position": null,
            "order": null,
            "overflow": null,
            "overflow_x": null,
            "overflow_y": null,
            "padding": null,
            "right": null,
            "top": null,
            "visibility": null,
            "width": null
          }
        },
        "c48f3c56f1504b4a9ae9488f508940a8": {
          "model_module": "@jupyter-widgets/controls",
          "model_name": "DescriptionStyleModel",
          "model_module_version": "1.5.0",
          "state": {
            "_model_module": "@jupyter-widgets/controls",
            "_model_module_version": "1.5.0",
            "_model_name": "DescriptionStyleModel",
            "_view_count": null,
            "_view_module": "@jupyter-widgets/base",
            "_view_module_version": "1.2.0",
            "_view_name": "StyleView",
            "description_width": ""
          }
        },
        "bc091d2d09f843da9a5363280bb386d0": {
          "model_module": "@jupyter-widgets/base",
          "model_name": "LayoutModel",
          "model_module_version": "1.2.0",
          "state": {
            "_model_module": "@jupyter-widgets/base",
            "_model_module_version": "1.2.0",
            "_model_name": "LayoutModel",
            "_view_count": null,
            "_view_module": "@jupyter-widgets/base",
            "_view_module_version": "1.2.0",
            "_view_name": "LayoutView",
            "align_content": null,
            "align_items": null,
            "align_self": null,
            "border": null,
            "bottom": null,
            "display": null,
            "flex": null,
            "flex_flow": null,
            "grid_area": null,
            "grid_auto_columns": null,
            "grid_auto_flow": null,
            "grid_auto_rows": null,
            "grid_column": null,
            "grid_gap": null,
            "grid_row": null,
            "grid_template_areas": null,
            "grid_template_columns": null,
            "grid_template_rows": null,
            "height": null,
            "justify_content": null,
            "justify_items": null,
            "left": null,
            "margin": null,
            "max_height": null,
            "max_width": null,
            "min_height": null,
            "min_width": null,
            "object_fit": null,
            "object_position": null,
            "order": null,
            "overflow": null,
            "overflow_x": null,
            "overflow_y": null,
            "padding": null,
            "right": null,
            "top": null,
            "visibility": null,
            "width": null
          }
        },
        "88aad69d6f68480a92fdd647f5f9c344": {
          "model_module": "@jupyter-widgets/controls",
          "model_name": "ProgressStyleModel",
          "model_module_version": "1.5.0",
          "state": {
            "_model_module": "@jupyter-widgets/controls",
            "_model_module_version": "1.5.0",
            "_model_name": "ProgressStyleModel",
            "_view_count": null,
            "_view_module": "@jupyter-widgets/base",
            "_view_module_version": "1.2.0",
            "_view_name": "StyleView",
            "bar_color": null,
            "description_width": ""
          }
        },
        "fc6b3c12113a446d8fa9c4b28d80a2b5": {
          "model_module": "@jupyter-widgets/base",
          "model_name": "LayoutModel",
          "model_module_version": "1.2.0",
          "state": {
            "_model_module": "@jupyter-widgets/base",
            "_model_module_version": "1.2.0",
            "_model_name": "LayoutModel",
            "_view_count": null,
            "_view_module": "@jupyter-widgets/base",
            "_view_module_version": "1.2.0",
            "_view_name": "LayoutView",
            "align_content": null,
            "align_items": null,
            "align_self": null,
            "border": null,
            "bottom": null,
            "display": null,
            "flex": null,
            "flex_flow": null,
            "grid_area": null,
            "grid_auto_columns": null,
            "grid_auto_flow": null,
            "grid_auto_rows": null,
            "grid_column": null,
            "grid_gap": null,
            "grid_row": null,
            "grid_template_areas": null,
            "grid_template_columns": null,
            "grid_template_rows": null,
            "height": null,
            "justify_content": null,
            "justify_items": null,
            "left": null,
            "margin": null,
            "max_height": null,
            "max_width": null,
            "min_height": null,
            "min_width": null,
            "object_fit": null,
            "object_position": null,
            "order": null,
            "overflow": null,
            "overflow_x": null,
            "overflow_y": null,
            "padding": null,
            "right": null,
            "top": null,
            "visibility": null,
            "width": null
          }
        },
        "1ecdf3adfd5246198cd40ce754789f84": {
          "model_module": "@jupyter-widgets/controls",
          "model_name": "DescriptionStyleModel",
          "model_module_version": "1.5.0",
          "state": {
            "_model_module": "@jupyter-widgets/controls",
            "_model_module_version": "1.5.0",
            "_model_name": "DescriptionStyleModel",
            "_view_count": null,
            "_view_module": "@jupyter-widgets/base",
            "_view_module_version": "1.2.0",
            "_view_name": "StyleView",
            "description_width": ""
          }
        },
        "872b70ed614345879f027341303cc5eb": {
          "model_module": "@jupyter-widgets/controls",
          "model_name": "HBoxModel",
          "model_module_version": "1.5.0",
          "state": {
            "_dom_classes": [],
            "_model_module": "@jupyter-widgets/controls",
            "_model_module_version": "1.5.0",
            "_model_name": "HBoxModel",
            "_view_count": null,
            "_view_module": "@jupyter-widgets/controls",
            "_view_module_version": "1.5.0",
            "_view_name": "HBoxView",
            "box_style": "",
            "children": [
              "IPY_MODEL_04626f3f11514921a5148ca8226c3baa",
              "IPY_MODEL_6a0bff9f86ec4f74b1045d91be671111",
              "IPY_MODEL_8cf545122eb947ceb8ea333578160aa7"
            ],
            "layout": "IPY_MODEL_cf527c95261c48d7bd9bdca16d9f153a"
          }
        },
        "04626f3f11514921a5148ca8226c3baa": {
          "model_module": "@jupyter-widgets/controls",
          "model_name": "HTMLModel",
          "model_module_version": "1.5.0",
          "state": {
            "_dom_classes": [],
            "_model_module": "@jupyter-widgets/controls",
            "_model_module_version": "1.5.0",
            "_model_name": "HTMLModel",
            "_view_count": null,
            "_view_module": "@jupyter-widgets/controls",
            "_view_module_version": "1.5.0",
            "_view_name": "HTMLView",
            "description": "",
            "description_tooltip": null,
            "layout": "IPY_MODEL_6570049cfaf44c64bd50aee4ba4f7e71",
            "placeholder": "​",
            "style": "IPY_MODEL_4ebca45518a549e1a42f156b359c2ffe",
            "value": "kmeans_10000.pt: 100%"
          }
        },
        "6a0bff9f86ec4f74b1045d91be671111": {
          "model_module": "@jupyter-widgets/controls",
          "model_name": "FloatProgressModel",
          "model_module_version": "1.5.0",
          "state": {
            "_dom_classes": [],
            "_model_module": "@jupyter-widgets/controls",
            "_model_module_version": "1.5.0",
            "_model_name": "FloatProgressModel",
            "_view_count": null,
            "_view_module": "@jupyter-widgets/controls",
            "_view_module_version": "1.5.0",
            "_view_name": "ProgressView",
            "bar_style": "success",
            "description": "",
            "description_tooltip": null,
            "layout": "IPY_MODEL_0da00898a57345589ef1bb7e8545bf7c",
            "max": 15439535,
            "min": 0,
            "orientation": "horizontal",
            "style": "IPY_MODEL_08de4c9dcd064ad3ad67fd20a9d3744c",
            "value": 15439535
          }
        },
        "8cf545122eb947ceb8ea333578160aa7": {
          "model_module": "@jupyter-widgets/controls",
          "model_name": "HTMLModel",
          "model_module_version": "1.5.0",
          "state": {
            "_dom_classes": [],
            "_model_module": "@jupyter-widgets/controls",
            "_model_module_version": "1.5.0",
            "_model_name": "HTMLModel",
            "_view_count": null,
            "_view_module": "@jupyter-widgets/controls",
            "_view_module_version": "1.5.0",
            "_view_name": "HTMLView",
            "description": "",
            "description_tooltip": null,
            "layout": "IPY_MODEL_0b36226aa349441ca13b7db1a4adbfed",
            "placeholder": "​",
            "style": "IPY_MODEL_12a2049efe3047138dabdfb2efe9fd25",
            "value": " 14.7M/14.7M [00:01&lt;00:00, 9.62MB/s]"
          }
        },
        "cf527c95261c48d7bd9bdca16d9f153a": {
          "model_module": "@jupyter-widgets/base",
          "model_name": "LayoutModel",
          "model_module_version": "1.2.0",
          "state": {
            "_model_module": "@jupyter-widgets/base",
            "_model_module_version": "1.2.0",
            "_model_name": "LayoutModel",
            "_view_count": null,
            "_view_module": "@jupyter-widgets/base",
            "_view_module_version": "1.2.0",
            "_view_name": "LayoutView",
            "align_content": null,
            "align_items": null,
            "align_self": null,
            "border": null,
            "bottom": null,
            "display": null,
            "flex": null,
            "flex_flow": null,
            "grid_area": null,
            "grid_auto_columns": null,
            "grid_auto_flow": null,
            "grid_auto_rows": null,
            "grid_column": null,
            "grid_gap": null,
            "grid_row": null,
            "grid_template_areas": null,
            "grid_template_columns": null,
            "grid_template_rows": null,
            "height": null,
            "justify_content": null,
            "justify_items": null,
            "left": null,
            "margin": null,
            "max_height": null,
            "max_width": null,
            "min_height": null,
            "min_width": null,
            "object_fit": null,
            "object_position": null,
            "order": null,
            "overflow": null,
            "overflow_x": null,
            "overflow_y": null,
            "padding": null,
            "right": null,
            "top": null,
            "visibility": null,
            "width": null
          }
        },
        "6570049cfaf44c64bd50aee4ba4f7e71": {
          "model_module": "@jupyter-widgets/base",
          "model_name": "LayoutModel",
          "model_module_version": "1.2.0",
          "state": {
            "_model_module": "@jupyter-widgets/base",
            "_model_module_version": "1.2.0",
            "_model_name": "LayoutModel",
            "_view_count": null,
            "_view_module": "@jupyter-widgets/base",
            "_view_module_version": "1.2.0",
            "_view_name": "LayoutView",
            "align_content": null,
            "align_items": null,
            "align_self": null,
            "border": null,
            "bottom": null,
            "display": null,
            "flex": null,
            "flex_flow": null,
            "grid_area": null,
            "grid_auto_columns": null,
            "grid_auto_flow": null,
            "grid_auto_rows": null,
            "grid_column": null,
            "grid_gap": null,
            "grid_row": null,
            "grid_template_areas": null,
            "grid_template_columns": null,
            "grid_template_rows": null,
            "height": null,
            "justify_content": null,
            "justify_items": null,
            "left": null,
            "margin": null,
            "max_height": null,
            "max_width": null,
            "min_height": null,
            "min_width": null,
            "object_fit": null,
            "object_position": null,
            "order": null,
            "overflow": null,
            "overflow_x": null,
            "overflow_y": null,
            "padding": null,
            "right": null,
            "top": null,
            "visibility": null,
            "width": null
          }
        },
        "4ebca45518a549e1a42f156b359c2ffe": {
          "model_module": "@jupyter-widgets/controls",
          "model_name": "DescriptionStyleModel",
          "model_module_version": "1.5.0",
          "state": {
            "_model_module": "@jupyter-widgets/controls",
            "_model_module_version": "1.5.0",
            "_model_name": "DescriptionStyleModel",
            "_view_count": null,
            "_view_module": "@jupyter-widgets/base",
            "_view_module_version": "1.2.0",
            "_view_name": "StyleView",
            "description_width": ""
          }
        },
        "0da00898a57345589ef1bb7e8545bf7c": {
          "model_module": "@jupyter-widgets/base",
          "model_name": "LayoutModel",
          "model_module_version": "1.2.0",
          "state": {
            "_model_module": "@jupyter-widgets/base",
            "_model_module_version": "1.2.0",
            "_model_name": "LayoutModel",
            "_view_count": null,
            "_view_module": "@jupyter-widgets/base",
            "_view_module_version": "1.2.0",
            "_view_name": "LayoutView",
            "align_content": null,
            "align_items": null,
            "align_self": null,
            "border": null,
            "bottom": null,
            "display": null,
            "flex": null,
            "flex_flow": null,
            "grid_area": null,
            "grid_auto_columns": null,
            "grid_auto_flow": null,
            "grid_auto_rows": null,
            "grid_column": null,
            "grid_gap": null,
            "grid_row": null,
            "grid_template_areas": null,
            "grid_template_columns": null,
            "grid_template_rows": null,
            "height": null,
            "justify_content": null,
            "justify_items": null,
            "left": null,
            "margin": null,
            "max_height": null,
            "max_width": null,
            "min_height": null,
            "min_width": null,
            "object_fit": null,
            "object_position": null,
            "order": null,
            "overflow": null,
            "overflow_x": null,
            "overflow_y": null,
            "padding": null,
            "right": null,
            "top": null,
            "visibility": null,
            "width": null
          }
        },
        "08de4c9dcd064ad3ad67fd20a9d3744c": {
          "model_module": "@jupyter-widgets/controls",
          "model_name": "ProgressStyleModel",
          "model_module_version": "1.5.0",
          "state": {
            "_model_module": "@jupyter-widgets/controls",
            "_model_module_version": "1.5.0",
            "_model_name": "ProgressStyleModel",
            "_view_count": null,
            "_view_module": "@jupyter-widgets/base",
            "_view_module_version": "1.2.0",
            "_view_name": "StyleView",
            "bar_color": null,
            "description_width": ""
          }
        },
        "0b36226aa349441ca13b7db1a4adbfed": {
          "model_module": "@jupyter-widgets/base",
          "model_name": "LayoutModel",
          "model_module_version": "1.2.0",
          "state": {
            "_model_module": "@jupyter-widgets/base",
            "_model_module_version": "1.2.0",
            "_model_name": "LayoutModel",
            "_view_count": null,
            "_view_module": "@jupyter-widgets/base",
            "_view_module_version": "1.2.0",
            "_view_name": "LayoutView",
            "align_content": null,
            "align_items": null,
            "align_self": null,
            "border": null,
            "bottom": null,
            "display": null,
            "flex": null,
            "flex_flow": null,
            "grid_area": null,
            "grid_auto_columns": null,
            "grid_auto_flow": null,
            "grid_auto_rows": null,
            "grid_column": null,
            "grid_gap": null,
            "grid_row": null,
            "grid_template_areas": null,
            "grid_template_columns": null,
            "grid_template_rows": null,
            "height": null,
            "justify_content": null,
            "justify_items": null,
            "left": null,
            "margin": null,
            "max_height": null,
            "max_width": null,
            "min_height": null,
            "min_width": null,
            "object_fit": null,
            "object_position": null,
            "order": null,
            "overflow": null,
            "overflow_x": null,
            "overflow_y": null,
            "padding": null,
            "right": null,
            "top": null,
            "visibility": null,
            "width": null
          }
        },
        "12a2049efe3047138dabdfb2efe9fd25": {
          "model_module": "@jupyter-widgets/controls",
          "model_name": "DescriptionStyleModel",
          "model_module_version": "1.5.0",
          "state": {
            "_model_module": "@jupyter-widgets/controls",
            "_model_module_version": "1.5.0",
            "_model_name": "DescriptionStyleModel",
            "_view_count": null,
            "_view_module": "@jupyter-widgets/base",
            "_view_module_version": "1.2.0",
            "_view_name": "StyleView",
            "description_width": ""
          }
        },
        "2223113f8d464adfa41a3b8256b3b064": {
          "model_module": "@jupyter-widgets/controls",
          "model_name": "HBoxModel",
          "model_module_version": "1.5.0",
          "state": {
            "_dom_classes": [],
            "_model_module": "@jupyter-widgets/controls",
            "_model_module_version": "1.5.0",
            "_model_name": "HBoxModel",
            "_view_count": null,
            "_view_module": "@jupyter-widgets/controls",
            "_view_module_version": "1.5.0",
            "_view_name": "HBoxView",
            "box_style": "",
            "children": [
              "IPY_MODEL_725e3d331f3944b0a98153714a5106c5",
              "IPY_MODEL_cfb634e31d1243318274325cd9436d17",
              "IPY_MODEL_937d40420930412d8f48bee24f4efe68"
            ],
            "layout": "IPY_MODEL_bcaef1fbe143449a8964b5883a603592"
          }
        },
        "725e3d331f3944b0a98153714a5106c5": {
          "model_module": "@jupyter-widgets/controls",
          "model_name": "HTMLModel",
          "model_module_version": "1.5.0",
          "state": {
            "_dom_classes": [],
            "_model_module": "@jupyter-widgets/controls",
            "_model_module_version": "1.5.0",
            "_model_name": "HTMLModel",
            "_view_count": null,
            "_view_module": "@jupyter-widgets/controls",
            "_view_module_version": "1.5.0",
            "_view_name": "HTMLView",
            "description": "",
            "description_tooltip": null,
            "layout": "IPY_MODEL_46b06c19d6574556bf0ce41044469837",
            "placeholder": "​",
            "style": "IPY_MODEL_5e3b69cca00e4eb7aaa8ce73c5eab2f5",
            "value": "config.json: 100%"
          }
        },
        "cfb634e31d1243318274325cd9436d17": {
          "model_module": "@jupyter-widgets/controls",
          "model_name": "FloatProgressModel",
          "model_module_version": "1.5.0",
          "state": {
            "_dom_classes": [],
            "_model_module": "@jupyter-widgets/controls",
            "_model_module_version": "1.5.0",
            "_model_name": "FloatProgressModel",
            "_view_count": null,
            "_view_module": "@jupyter-widgets/controls",
            "_view_module_version": "1.5.0",
            "_view_name": "ProgressView",
            "bar_style": "success",
            "description": "",
            "description_tooltip": null,
            "layout": "IPY_MODEL_25841dec73a846839e24f253f2650b07",
            "max": 1623,
            "min": 0,
            "orientation": "horizontal",
            "style": "IPY_MODEL_95a42296f48a4ec99043706443c7fc19",
            "value": 1623
          }
        },
        "937d40420930412d8f48bee24f4efe68": {
          "model_module": "@jupyter-widgets/controls",
          "model_name": "HTMLModel",
          "model_module_version": "1.5.0",
          "state": {
            "_dom_classes": [],
            "_model_module": "@jupyter-widgets/controls",
            "_model_module_version": "1.5.0",
            "_model_name": "HTMLModel",
            "_view_count": null,
            "_view_module": "@jupyter-widgets/controls",
            "_view_module_version": "1.5.0",
            "_view_name": "HTMLView",
            "description": "",
            "description_tooltip": null,
            "layout": "IPY_MODEL_17f64d866b404c32b75debc79cba5908",
            "placeholder": "​",
            "style": "IPY_MODEL_0a68edce88224f7cb99eee5b0b385dc1",
            "value": " 1.58k/1.58k [00:00&lt;00:00, 79.8kB/s]"
          }
        },
        "bcaef1fbe143449a8964b5883a603592": {
          "model_module": "@jupyter-widgets/base",
          "model_name": "LayoutModel",
          "model_module_version": "1.2.0",
          "state": {
            "_model_module": "@jupyter-widgets/base",
            "_model_module_version": "1.2.0",
            "_model_name": "LayoutModel",
            "_view_count": null,
            "_view_module": "@jupyter-widgets/base",
            "_view_module_version": "1.2.0",
            "_view_name": "LayoutView",
            "align_content": null,
            "align_items": null,
            "align_self": null,
            "border": null,
            "bottom": null,
            "display": null,
            "flex": null,
            "flex_flow": null,
            "grid_area": null,
            "grid_auto_columns": null,
            "grid_auto_flow": null,
            "grid_auto_rows": null,
            "grid_column": null,
            "grid_gap": null,
            "grid_row": null,
            "grid_template_areas": null,
            "grid_template_columns": null,
            "grid_template_rows": null,
            "height": null,
            "justify_content": null,
            "justify_items": null,
            "left": null,
            "margin": null,
            "max_height": null,
            "max_width": null,
            "min_height": null,
            "min_width": null,
            "object_fit": null,
            "object_position": null,
            "order": null,
            "overflow": null,
            "overflow_x": null,
            "overflow_y": null,
            "padding": null,
            "right": null,
            "top": null,
            "visibility": null,
            "width": null
          }
        },
        "46b06c19d6574556bf0ce41044469837": {
          "model_module": "@jupyter-widgets/base",
          "model_name": "LayoutModel",
          "model_module_version": "1.2.0",
          "state": {
            "_model_module": "@jupyter-widgets/base",
            "_model_module_version": "1.2.0",
            "_model_name": "LayoutModel",
            "_view_count": null,
            "_view_module": "@jupyter-widgets/base",
            "_view_module_version": "1.2.0",
            "_view_name": "LayoutView",
            "align_content": null,
            "align_items": null,
            "align_self": null,
            "border": null,
            "bottom": null,
            "display": null,
            "flex": null,
            "flex_flow": null,
            "grid_area": null,
            "grid_auto_columns": null,
            "grid_auto_flow": null,
            "grid_auto_rows": null,
            "grid_column": null,
            "grid_gap": null,
            "grid_row": null,
            "grid_template_areas": null,
            "grid_template_columns": null,
            "grid_template_rows": null,
            "height": null,
            "justify_content": null,
            "justify_items": null,
            "left": null,
            "margin": null,
            "max_height": null,
            "max_width": null,
            "min_height": null,
            "min_width": null,
            "object_fit": null,
            "object_position": null,
            "order": null,
            "overflow": null,
            "overflow_x": null,
            "overflow_y": null,
            "padding": null,
            "right": null,
            "top": null,
            "visibility": null,
            "width": null
          }
        },
        "5e3b69cca00e4eb7aaa8ce73c5eab2f5": {
          "model_module": "@jupyter-widgets/controls",
          "model_name": "DescriptionStyleModel",
          "model_module_version": "1.5.0",
          "state": {
            "_model_module": "@jupyter-widgets/controls",
            "_model_module_version": "1.5.0",
            "_model_name": "DescriptionStyleModel",
            "_view_count": null,
            "_view_module": "@jupyter-widgets/base",
            "_view_module_version": "1.2.0",
            "_view_name": "StyleView",
            "description_width": ""
          }
        },
        "25841dec73a846839e24f253f2650b07": {
          "model_module": "@jupyter-widgets/base",
          "model_name": "LayoutModel",
          "model_module_version": "1.2.0",
          "state": {
            "_model_module": "@jupyter-widgets/base",
            "_model_module_version": "1.2.0",
            "_model_name": "LayoutModel",
            "_view_count": null,
            "_view_module": "@jupyter-widgets/base",
            "_view_module_version": "1.2.0",
            "_view_name": "LayoutView",
            "align_content": null,
            "align_items": null,
            "align_self": null,
            "border": null,
            "bottom": null,
            "display": null,
            "flex": null,
            "flex_flow": null,
            "grid_area": null,
            "grid_auto_columns": null,
            "grid_auto_flow": null,
            "grid_auto_rows": null,
            "grid_column": null,
            "grid_gap": null,
            "grid_row": null,
            "grid_template_areas": null,
            "grid_template_columns": null,
            "grid_template_rows": null,
            "height": null,
            "justify_content": null,
            "justify_items": null,
            "left": null,
            "margin": null,
            "max_height": null,
            "max_width": null,
            "min_height": null,
            "min_width": null,
            "object_fit": null,
            "object_position": null,
            "order": null,
            "overflow": null,
            "overflow_x": null,
            "overflow_y": null,
            "padding": null,
            "right": null,
            "top": null,
            "visibility": null,
            "width": null
          }
        },
        "95a42296f48a4ec99043706443c7fc19": {
          "model_module": "@jupyter-widgets/controls",
          "model_name": "ProgressStyleModel",
          "model_module_version": "1.5.0",
          "state": {
            "_model_module": "@jupyter-widgets/controls",
            "_model_module_version": "1.5.0",
            "_model_name": "ProgressStyleModel",
            "_view_count": null,
            "_view_module": "@jupyter-widgets/base",
            "_view_module_version": "1.2.0",
            "_view_name": "StyleView",
            "bar_color": null,
            "description_width": ""
          }
        },
        "17f64d866b404c32b75debc79cba5908": {
          "model_module": "@jupyter-widgets/base",
          "model_name": "LayoutModel",
          "model_module_version": "1.2.0",
          "state": {
            "_model_module": "@jupyter-widgets/base",
            "_model_module_version": "1.2.0",
            "_model_name": "LayoutModel",
            "_view_count": null,
            "_view_module": "@jupyter-widgets/base",
            "_view_module_version": "1.2.0",
            "_view_name": "LayoutView",
            "align_content": null,
            "align_items": null,
            "align_self": null,
            "border": null,
            "bottom": null,
            "display": null,
            "flex": null,
            "flex_flow": null,
            "grid_area": null,
            "grid_auto_columns": null,
            "grid_auto_flow": null,
            "grid_auto_rows": null,
            "grid_column": null,
            "grid_gap": null,
            "grid_row": null,
            "grid_template_areas": null,
            "grid_template_columns": null,
            "grid_template_rows": null,
            "height": null,
            "justify_content": null,
            "justify_items": null,
            "left": null,
            "margin": null,
            "max_height": null,
            "max_width": null,
            "min_height": null,
            "min_width": null,
            "object_fit": null,
            "object_position": null,
            "order": null,
            "overflow": null,
            "overflow_x": null,
            "overflow_y": null,
            "padding": null,
            "right": null,
            "top": null,
            "visibility": null,
            "width": null
          }
        },
        "0a68edce88224f7cb99eee5b0b385dc1": {
          "model_module": "@jupyter-widgets/controls",
          "model_name": "DescriptionStyleModel",
          "model_module_version": "1.5.0",
          "state": {
            "_model_module": "@jupyter-widgets/controls",
            "_model_module_version": "1.5.0",
            "_model_name": "DescriptionStyleModel",
            "_view_count": null,
            "_view_module": "@jupyter-widgets/base",
            "_view_module_version": "1.2.0",
            "_view_name": "StyleView",
            "description_width": ""
          }
        },
        "15cacdb9ab4b4f9fa0900ea6f9f0366c": {
          "model_module": "@jupyter-widgets/controls",
          "model_name": "HBoxModel",
          "model_module_version": "1.5.0",
          "state": {
            "_dom_classes": [],
            "_model_module": "@jupyter-widgets/controls",
            "_model_module_version": "1.5.0",
            "_model_name": "HBoxModel",
            "_view_count": null,
            "_view_module": "@jupyter-widgets/controls",
            "_view_module_version": "1.5.0",
            "_view_name": "HBoxView",
            "box_style": "",
            "children": [
              "IPY_MODEL_8bf03153b48648e49c01b090c7bf797a",
              "IPY_MODEL_03bd782330c94448a4703ad2c4ce5b0e",
              "IPY_MODEL_3127d6f863d443a0bfb4c246a07cab50"
            ],
            "layout": "IPY_MODEL_c66afaa01e974e58884967d88be7db51"
          }
        },
        "8bf03153b48648e49c01b090c7bf797a": {
          "model_module": "@jupyter-widgets/controls",
          "model_name": "HTMLModel",
          "model_module_version": "1.5.0",
          "state": {
            "_dom_classes": [],
            "_model_module": "@jupyter-widgets/controls",
            "_model_module_version": "1.5.0",
            "_model_name": "HTMLModel",
            "_view_count": null,
            "_view_module": "@jupyter-widgets/controls",
            "_view_module_version": "1.5.0",
            "_view_name": "HTMLView",
            "description": "",
            "description_tooltip": null,
            "layout": "IPY_MODEL_0752f671866745b19b850ae3ec01d9a6",
            "placeholder": "​",
            "style": "IPY_MODEL_0f3068e8e9dc406aa9e0f0883c8d81bb",
            "value": "G_30400.pth:  61%"
          }
        },
        "03bd782330c94448a4703ad2c4ce5b0e": {
          "model_module": "@jupyter-widgets/controls",
          "model_name": "FloatProgressModel",
          "model_module_version": "1.5.0",
          "state": {
            "_dom_classes": [],
            "_model_module": "@jupyter-widgets/controls",
            "_model_module_version": "1.5.0",
            "_model_name": "FloatProgressModel",
            "_view_count": null,
            "_view_module": "@jupyter-widgets/controls",
            "_view_module_version": "1.5.0",
            "_view_name": "ProgressView",
            "bar_style": "",
            "description": "",
            "description_tooltip": null,
            "layout": "IPY_MODEL_9370e8180893488a9dacb8eec5f766d2",
            "max": 542789405,
            "min": 0,
            "orientation": "horizontal",
            "style": "IPY_MODEL_fcfeff790c9343bcae6a7a67dc5e802e",
            "value": 330481664
          }
        },
        "3127d6f863d443a0bfb4c246a07cab50": {
          "model_module": "@jupyter-widgets/controls",
          "model_name": "HTMLModel",
          "model_module_version": "1.5.0",
          "state": {
            "_dom_classes": [],
            "_model_module": "@jupyter-widgets/controls",
            "_model_module_version": "1.5.0",
            "_model_name": "HTMLModel",
            "_view_count": null,
            "_view_module": "@jupyter-widgets/controls",
            "_view_module_version": "1.5.0",
            "_view_name": "HTMLView",
            "description": "",
            "description_tooltip": null,
            "layout": "IPY_MODEL_3b9e2ab0b7d843d9ac4e2a980e10e155",
            "placeholder": "​",
            "style": "IPY_MODEL_5c7784baecb34b239abf3f3a04b6a452",
            "value": " 315M/518M [00:26&lt;00:15, 13.8MB/s]"
          }
        },
        "c66afaa01e974e58884967d88be7db51": {
          "model_module": "@jupyter-widgets/base",
          "model_name": "LayoutModel",
          "model_module_version": "1.2.0",
          "state": {
            "_model_module": "@jupyter-widgets/base",
            "_model_module_version": "1.2.0",
            "_model_name": "LayoutModel",
            "_view_count": null,
            "_view_module": "@jupyter-widgets/base",
            "_view_module_version": "1.2.0",
            "_view_name": "LayoutView",
            "align_content": null,
            "align_items": null,
            "align_self": null,
            "border": null,
            "bottom": null,
            "display": null,
            "flex": null,
            "flex_flow": null,
            "grid_area": null,
            "grid_auto_columns": null,
            "grid_auto_flow": null,
            "grid_auto_rows": null,
            "grid_column": null,
            "grid_gap": null,
            "grid_row": null,
            "grid_template_areas": null,
            "grid_template_columns": null,
            "grid_template_rows": null,
            "height": null,
            "justify_content": null,
            "justify_items": null,
            "left": null,
            "margin": null,
            "max_height": null,
            "max_width": null,
            "min_height": null,
            "min_width": null,
            "object_fit": null,
            "object_position": null,
            "order": null,
            "overflow": null,
            "overflow_x": null,
            "overflow_y": null,
            "padding": null,
            "right": null,
            "top": null,
            "visibility": null,
            "width": null
          }
        },
        "0752f671866745b19b850ae3ec01d9a6": {
          "model_module": "@jupyter-widgets/base",
          "model_name": "LayoutModel",
          "model_module_version": "1.2.0",
          "state": {
            "_model_module": "@jupyter-widgets/base",
            "_model_module_version": "1.2.0",
            "_model_name": "LayoutModel",
            "_view_count": null,
            "_view_module": "@jupyter-widgets/base",
            "_view_module_version": "1.2.0",
            "_view_name": "LayoutView",
            "align_content": null,
            "align_items": null,
            "align_self": null,
            "border": null,
            "bottom": null,
            "display": null,
            "flex": null,
            "flex_flow": null,
            "grid_area": null,
            "grid_auto_columns": null,
            "grid_auto_flow": null,
            "grid_auto_rows": null,
            "grid_column": null,
            "grid_gap": null,
            "grid_row": null,
            "grid_template_areas": null,
            "grid_template_columns": null,
            "grid_template_rows": null,
            "height": null,
            "justify_content": null,
            "justify_items": null,
            "left": null,
            "margin": null,
            "max_height": null,
            "max_width": null,
            "min_height": null,
            "min_width": null,
            "object_fit": null,
            "object_position": null,
            "order": null,
            "overflow": null,
            "overflow_x": null,
            "overflow_y": null,
            "padding": null,
            "right": null,
            "top": null,
            "visibility": null,
            "width": null
          }
        },
        "0f3068e8e9dc406aa9e0f0883c8d81bb": {
          "model_module": "@jupyter-widgets/controls",
          "model_name": "DescriptionStyleModel",
          "model_module_version": "1.5.0",
          "state": {
            "_model_module": "@jupyter-widgets/controls",
            "_model_module_version": "1.5.0",
            "_model_name": "DescriptionStyleModel",
            "_view_count": null,
            "_view_module": "@jupyter-widgets/base",
            "_view_module_version": "1.2.0",
            "_view_name": "StyleView",
            "description_width": ""
          }
        },
        "9370e8180893488a9dacb8eec5f766d2": {
          "model_module": "@jupyter-widgets/base",
          "model_name": "LayoutModel",
          "model_module_version": "1.2.0",
          "state": {
            "_model_module": "@jupyter-widgets/base",
            "_model_module_version": "1.2.0",
            "_model_name": "LayoutModel",
            "_view_count": null,
            "_view_module": "@jupyter-widgets/base",
            "_view_module_version": "1.2.0",
            "_view_name": "LayoutView",
            "align_content": null,
            "align_items": null,
            "align_self": null,
            "border": null,
            "bottom": null,
            "display": null,
            "flex": null,
            "flex_flow": null,
            "grid_area": null,
            "grid_auto_columns": null,
            "grid_auto_flow": null,
            "grid_auto_rows": null,
            "grid_column": null,
            "grid_gap": null,
            "grid_row": null,
            "grid_template_areas": null,
            "grid_template_columns": null,
            "grid_template_rows": null,
            "height": null,
            "justify_content": null,
            "justify_items": null,
            "left": null,
            "margin": null,
            "max_height": null,
            "max_width": null,
            "min_height": null,
            "min_width": null,
            "object_fit": null,
            "object_position": null,
            "order": null,
            "overflow": null,
            "overflow_x": null,
            "overflow_y": null,
            "padding": null,
            "right": null,
            "top": null,
            "visibility": null,
            "width": null
          }
        },
        "fcfeff790c9343bcae6a7a67dc5e802e": {
          "model_module": "@jupyter-widgets/controls",
          "model_name": "ProgressStyleModel",
          "model_module_version": "1.5.0",
          "state": {
            "_model_module": "@jupyter-widgets/controls",
            "_model_module_version": "1.5.0",
            "_model_name": "ProgressStyleModel",
            "_view_count": null,
            "_view_module": "@jupyter-widgets/base",
            "_view_module_version": "1.2.0",
            "_view_name": "StyleView",
            "bar_color": null,
            "description_width": ""
          }
        },
        "3b9e2ab0b7d843d9ac4e2a980e10e155": {
          "model_module": "@jupyter-widgets/base",
          "model_name": "LayoutModel",
          "model_module_version": "1.2.0",
          "state": {
            "_model_module": "@jupyter-widgets/base",
            "_model_module_version": "1.2.0",
            "_model_name": "LayoutModel",
            "_view_count": null,
            "_view_module": "@jupyter-widgets/base",
            "_view_module_version": "1.2.0",
            "_view_name": "LayoutView",
            "align_content": null,
            "align_items": null,
            "align_self": null,
            "border": null,
            "bottom": null,
            "display": null,
            "flex": null,
            "flex_flow": null,
            "grid_area": null,
            "grid_auto_columns": null,
            "grid_auto_flow": null,
            "grid_auto_rows": null,
            "grid_column": null,
            "grid_gap": null,
            "grid_row": null,
            "grid_template_areas": null,
            "grid_template_columns": null,
            "grid_template_rows": null,
            "height": null,
            "justify_content": null,
            "justify_items": null,
            "left": null,
            "margin": null,
            "max_height": null,
            "max_width": null,
            "min_height": null,
            "min_width": null,
            "object_fit": null,
            "object_position": null,
            "order": null,
            "overflow": null,
            "overflow_x": null,
            "overflow_y": null,
            "padding": null,
            "right": null,
            "top": null,
            "visibility": null,
            "width": null
          }
        },
        "5c7784baecb34b239abf3f3a04b6a452": {
          "model_module": "@jupyter-widgets/controls",
          "model_name": "DescriptionStyleModel",
          "model_module_version": "1.5.0",
          "state": {
            "_model_module": "@jupyter-widgets/controls",
            "_model_module_version": "1.5.0",
            "_model_name": "DescriptionStyleModel",
            "_view_count": null,
            "_view_module": "@jupyter-widgets/base",
            "_view_module_version": "1.2.0",
            "_view_name": "StyleView",
            "description_width": ""
          }
        }
      }
    },
    "colab": {
      "provenance": [],
      "gpuType": "T4"
    },
    "accelerator": "GPU"
  },
  "nbformat": 4,
  "nbformat_minor": 5
}